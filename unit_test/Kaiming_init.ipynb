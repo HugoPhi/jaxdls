{
 "cells": [
  {
   "cell_type": "code",
   "execution_count": 1,
   "id": "79c32355-15c3-48c5-b015-5b5646cd896d",
   "metadata": {},
   "outputs": [],
   "source": [
    "import jax.numpy as jnp\n",
    "from jax import random, grad, vmap, jit\n",
    "\n",
    "key = random.PRNGKey(0)\n",
    "\n"
   ]
  },
  {
   "cell_type": "code",
   "execution_count": 2,
   "id": "6caf3ceb-4444-474a-a85a-21ae2f99e7d1",
   "metadata": {},
   "outputs": [
    {
     "name": "stdout",
     "output_type": "stream",
     "text": [
      "[[ 6.5856543   5.6028194  -6.1329246 ]\n",
      " [ 0.83098197  0.7037289  -0.7774668 ]\n",
      " [-2.1084046  -1.7890066   1.960885  ]\n",
      " ...\n",
      " [ 0.88706774  0.75228006 -0.82447726]\n",
      " [ 2.2509716   1.9133378  -2.0966735 ]\n",
      " [ 0.1786989   0.15000126 -0.16704927]]\n"
     ]
    }
   ],
   "source": [
    "ws = [random.normal(key, (3, 3)) * jnp.sqrt(2 / (3 + 3)) for _ in range(10)]\n",
    "bs = [jnp.zeros(1) for _ in range(10)]\n",
    "\n",
    "X = random.normal(key, (1000, 3))\n",
    "res = X\n",
    "for w, b in zip(ws, bs):\n",
    "    res = res @ w + b\n",
    "\n",
    "print(res)"
   ]
  },
  {
   "cell_type": "code",
   "execution_count": 3,
   "id": "4006af33-c3ec-4013-8823-4b00972670e7",
   "metadata": {},
   "outputs": [
    {
     "name": "stdout",
     "output_type": "stream",
     "text": [
      "[[ 1600.3146   1361.4856  -1490.3013 ]\n",
      " [  201.9287    171.00618  -188.92447]\n",
      " [ -512.3426   -434.72885   476.4953 ]\n",
      " ...\n",
      " [  215.55754   182.80411  -200.34799]\n",
      " [  546.98627   464.9412   -509.49176]\n",
      " [   43.42386    36.45033   -40.593  ]]\n"
     ]
    }
   ],
   "source": [
    "ws = [random.normal(key, (3, 3)) for _ in range(10)]\n",
    "\n",
    "X = random.normal(key, (1000, 3))\n",
    "res = X\n",
    "for w, b in zip(ws, bs):\n",
    "    res = res @ w + b\n",
    "\n",
    "print(res)"
   ]
  }
 ],
 "metadata": {
  "kernelspec": {
   "display_name": "Python 3 (ipykernel)",
   "language": "python",
   "name": "python3"
  },
  "language_info": {
   "codemirror_mode": {
    "name": "ipython",
    "version": 3
   },
   "file_extension": ".py",
   "mimetype": "text/x-python",
   "name": "python",
   "nbconvert_exporter": "python",
   "pygments_lexer": "ipython3",
   "version": "3.13.2+"
  }
 },
 "nbformat": 4,
 "nbformat_minor": 5
}
