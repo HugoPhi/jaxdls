{
 "cells": [
  {
   "cell_type": "code",
   "execution_count": null,
   "id": "79c32355-15c3-48c5-b015-5b5646cd896d",
   "metadata": {},
   "outputs": [],
   "source": [
    "import jax.numpy as jnp\n",
    "from jax import random, grad, vmap, jit\n",
    "\n",
    "key = random.PRNGKey(0)\n",
    "\n"
   ]
  },
  {
   "cell_type": "code",
   "execution_count": null,
   "id": "6caf3ceb-4444-474a-a85a-21ae2f99e7d1",
   "metadata": {},
   "outputs": [],
   "source": [
    "ws = [random.normal(key, (3, 3)) * jnp.sqrt(2 / (3 + 3)) for _ in range(10)]\n",
    "bs = [jnp.zeros(1) for _ in range(10)]\n",
    "\n",
    "X = random.normal(key, (1000, 3))\n",
    "res = X\n",
    "for w, b in zip(ws, bs):\n",
    "    res = res @ w + b\n",
    "\n",
    "print(res)"
   ]
  },
  {
   "cell_type": "code",
   "execution_count": null,
   "id": "4006af33-c3ec-4013-8823-4b00972670e7",
   "metadata": {},
   "outputs": [],
   "source": [
    "ws = [random.normal(key, (3, 3)) for _ in range(10)]\n",
    "\n",
    "X = random.normal(key, (1000, 3))\n",
    "res = X\n",
    "for w, b in zip(ws, bs):\n",
    "    res = res @ w + b\n",
    "\n",
    "print(res)"
   ]
  }
 ],
 "metadata": {
  "kernelspec": {
   "display_name": "Python 3 (ipykernel)",
   "language": "python",
   "name": "python3"
  },
  "language_info": {
   "codemirror_mode": {
    "name": "ipython",
    "version": 3
   },
   "file_extension": ".py",
   "mimetype": "text/x-python",
   "name": "python",
   "nbconvert_exporter": "python",
   "pygments_lexer": "ipython3",
   "version": "3.13.2+"
  }
 },
 "nbformat": 4,
 "nbformat_minor": 5
}
