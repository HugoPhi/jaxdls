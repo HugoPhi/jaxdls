{
 "cells": [
  {
   "cell_type": "code",
   "execution_count": 1,
   "id": "96d0aa37-5f2f-406d-8b0b-4766bcdff7fd",
   "metadata": {},
   "outputs": [],
   "source": [
    "import jax.numpy as jnp\n",
    "from jax import random, jit, vmap, lax\n",
    "\n",
    "class RawVersion:\n",
    "    @staticmethod\n",
    "    def conv2d(x, w, b, padding=1):\n",
    "        bs, icl, he, wi = x.shape  # input graph -> batch_size x channel x height x width\n",
    "        ocl, icl, kh, kw = w.shape\n",
    "        he = (he + 2*padding - kh + 1)\n",
    "        wi = (wi + 2*padding - kw + 1)\n",
    "        \n",
    "        fgraph = jnp.zeros((bs, ocl, he, wi))  # feature graph\n",
    "    \n",
    "        # padding for x \n",
    "        pad_mat = (\n",
    "            (0, 0),\n",
    "            (0, 0),\n",
    "            (padding, padding),\n",
    "            (padding, padding)\n",
    "        )\n",
    "        \n",
    "        x_padded = jnp.pad(x, pad_mat, mode='constant', constant_values=0)\n",
    "    \n",
    "        for k in range(ocl):\n",
    "            for i in range(he):\n",
    "                for j in range(wi):\n",
    "                    fgraph.at[:, k, i, j].set(\n",
    "                        jnp.sum(x_padded[:, :, i:i + kh, j:j + kw] * w[k], axis=(1, 2, 3)) + b[k]\n",
    "                    )\n",
    "    \n",
    "        return fgraph\n",
    "\n",
    "    @staticmethod\n",
    "    def max_pooling2d(x, pool_size=(2, 2), stride=None):\n",
    "        if stride is None:\n",
    "            stride = pool_size\n",
    "        \n",
    "        batch_size, channels, height, width = x.shape\n",
    "        pool_height, pool_width = pool_size\n",
    "        stride_height, stride_width = stride\n",
    "        \n",
    "        output_height = (height - pool_height) // stride_height + 1\n",
    "        output_width = (width - pool_width) // stride_width + 1\n",
    "        \n",
    "        output_array = jnp.zeros((batch_size, channels, output_height, output_width))\n",
    "        \n",
    "        for n in range(batch_size):\n",
    "            for c in range(channels):\n",
    "                for i in range(output_height):\n",
    "                    for j in range(output_width):\n",
    "                        window = x[n, c, \n",
    "                                        i * stride_height:i * stride_height + pool_height, \n",
    "                                        j * stride_width :j * stride_width  + pool_width]\n",
    "                        output_array.at[n, c, i, j].set(\n",
    "                            jnp.max(window)\n",
    "                        )\n",
    "        \n",
    "        return output_array        \n",
    "\n",
    "\n",
    "class JaxOptimaized:\n",
    "    @staticmethod\n",
    "    def conv2d(x, w, b, padding=1):\n",
    "        dimension_numbers = ('NCHW', 'OIHW', 'NCHW')\n",
    "        padding_mode = ((padding, padding), (padding, padding))  # 高度和宽度方向的padding\n",
    "        \n",
    "        out = lax.conv_general_dilated(\n",
    "            lhs=x,\n",
    "            rhs=w,\n",
    "            window_strides=(1, 1),\n",
    "            padding=padding_mode,\n",
    "            lhs_dilation=(1, 1),\n",
    "            rhs_dilation=(1, 1),\n",
    "            dimension_numbers=dimension_numbers\n",
    "        )\n",
    "        \n",
    "        return out + b[None, :, None, None]\n",
    "\n",
    "    @staticmethod\n",
    "    def max_pooling2d(x, pool_size=(2, 2), stride=None):\n",
    "        if stride is None:\n",
    "            stride = pool_size\n",
    "        \n",
    "        return lax.reduce_window(\n",
    "            operand=x,\n",
    "            init_value=-jnp.inf,\n",
    "            computation=lax.max,\n",
    "            window_dimensions=(1, 1, pool_size[0], pool_size[1]),\n",
    "            window_strides=(1, 1, stride[0], stride[1]),\n",
    "            padding='VALID'\n",
    "        ) "
   ]
  },
  {
   "cell_type": "code",
   "execution_count": 2,
   "id": "2a3eea9f-2d05-4fc8-82a6-2a3b2cfecc85",
   "metadata": {},
   "outputs": [],
   "source": [
    "batch_size = 10000\n",
    "in_channel = 1\n",
    "out_channel = 10\n",
    "padding = 1\n",
    "\n",
    "X = jnp.ones((batch_size, in_channel, 28, 28))\n",
    "w = jnp.ones((out_channel, in_channel, 5, 5))\n",
    "b = jnp.ones((out_channel, ))\n",
    "\n",
    "bs, cl, he, wi = X.shape  # graph -> height x width\n",
    "kh, kw = (5, 5)\n",
    "he = (he + 2*padding - kh)\n",
    "wi = (wi + 2*padding - kh)\n",
    "\n",
    "jit_conv2d = jit(lambda w, b: JaxOptimaized.conv2d(X, w, b, padding=2))\n",
    "jit_max_pooling2d = jit(JaxOptimaized.max_pooling2d)\n",
    "\n",
    "# fgraph = JaxOptimaized.conv2d(w, b)\n",
    "fgraph = jit_conv2d(w, b)"
   ]
  },
  {
   "cell_type": "code",
   "execution_count": 3,
   "id": "d7fed262-53a8-4fdb-a689-7464b4a30d46",
   "metadata": {},
   "outputs": [
    {
     "name": "stdout",
     "output_type": "stream",
     "text": [
      "(10000, 10, 26, 26)\n"
     ]
    }
   ],
   "source": [
    "print(fgraph.shape)"
   ]
  },
  {
   "cell_type": "code",
   "execution_count": 4,
   "id": "deb46aba-190f-4eaa-8df7-6e5a56807f94",
   "metadata": {},
   "outputs": [],
   "source": [
    "# fgraph = JaxOptimaized.max_pooling2d(fgraph)\n",
    "fgraph = jit_max_pooling2d(fgraph)"
   ]
  },
  {
   "cell_type": "code",
   "execution_count": 5,
   "id": "1834f94f-8b4c-4c04-9f3c-6250b6fcea49",
   "metadata": {},
   "outputs": [
    {
     "name": "stdout",
     "output_type": "stream",
     "text": [
      "(10000, 10, 13, 13)\n"
     ]
    }
   ],
   "source": [
    "print(fgraph.shape)"
   ]
  }
 ],
 "metadata": {
  "kernelspec": {
   "display_name": "Python 3 (ipykernel)",
   "language": "python",
   "name": "python3"
  },
  "language_info": {
   "codemirror_mode": {
    "name": "ipython",
    "version": 3
   },
   "file_extension": ".py",
   "mimetype": "text/x-python",
   "name": "python",
   "nbconvert_exporter": "python",
   "pygments_lexer": "ipython3",
   "version": "3.13.2+"
  }
 },
 "nbformat": 4,
 "nbformat_minor": 5
}
