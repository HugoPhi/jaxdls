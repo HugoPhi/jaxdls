{
 "cells": [
  {
   "cell_type": "code",
   "execution_count": 11,
   "id": "7d290f4f-e30c-434e-bf7e-681a18fb033d",
   "metadata": {},
   "outputs": [
    {
     "name": "stdout",
     "output_type": "stream",
     "text": [
      "{'1': {'x': Array(6., dtype=float32, weak_type=True), 'y': Array(1., dtype=float32, weak_type=True)}}\n"
     ]
    }
   ],
   "source": [
    "import jax.numpy as jnp\n",
    "from jax import grad\n",
    "\n",
    "def example_func(params):\n",
    "    # 假设我们只对 'x' 求导，忽略 'name'\n",
    "    return params['1']['x'] ** 2 + params['1']['y'].astype(jnp.float32)  # 确保所有操作数都是相同类型\n",
    "\n",
    "# 示例输入，其中包含一个JAX数组和其他类型的数据\n",
    "params = {\n",
    "    '1': {\n",
    "        'x': jnp.array(3.),\n",
    "        'y': jnp.array(2.),  # 可能需要转换类型，取决于你的使用场景\n",
    "        # 'name': 'example_name'  # 非数组数据，不能出现\n",
    "    }\n",
    "}\n",
    "\n",
    "# 对字典中的 'x' 求导\n",
    "d_func_dx = grad(example_func, argnums=0)  # argnums=0 表示对第一个参数求导\n",
    "\n",
    "result = d_func_dx(params)\n",
    "print(result)  # 应输出与 'x' 关于函数的导数有关的值"
   ]
  }
 ],
 "metadata": {
  "kernelspec": {
   "display_name": "Python 3 (ipykernel)",
   "language": "python",
   "name": "python3"
  },
  "language_info": {
   "codemirror_mode": {
    "name": "ipython",
    "version": 3
   },
   "file_extension": ".py",
   "mimetype": "text/x-python",
   "name": "python",
   "nbconvert_exporter": "python",
   "pygments_lexer": "ipython3",
   "version": "3.13.2+"
  }
 },
 "nbformat": 4,
 "nbformat_minor": 5
}
