{
 "cells": [
  {
   "cell_type": "code",
   "execution_count": 1,
   "id": "ffa65ba9-ad5b-4008-9966-b04ce5957767",
   "metadata": {},
   "outputs": [],
   "source": [
    "import jax.numpy as jnp\n",
    "from jax import random, vmap, jit, grad\n",
    "\n",
    "key = random.PRNGKey(0)"
   ]
  },
  {
   "cell_type": "code",
   "execution_count": 2,
   "id": "35237122-5a93-4c3a-b429-74c7ebea3870",
   "metadata": {},
   "outputs": [],
   "source": [
    "class OriginalVersion:\n",
    "    @staticmethod\n",
    "    def normal_cell(x, h0, \n",
    "                    w_hh, w_xh, b_h, \n",
    "                    w_hy, b_y):\n",
    "        '''\n",
    "        Input\n",
    "        -----\n",
    "        x: (S, B, I)\n",
    "        h0: (B, H)\n",
    "        q_hh: (H, H)\n",
    "        w_xh: (I, H)\n",
    "        b_h: (H)\n",
    "        w_hy: (H, O)\n",
    "        b_y: (H)\n",
    "\n",
    "        Output\n",
    "        ------\n",
    "        res: (S, B, O)\n",
    "        h: (S, B, H)\n",
    "        '''\n",
    "        steps, batch_size, input_dim = x.shape  # S, B, I\n",
    "        _, hidden_dim = w_hh.shape  # H, H\n",
    "        _, output_dim = w_hy.shape  # H, O\n",
    "\n",
    "        res = jnp.zeros((steps, batch_size, output_dim))  # S, B, O\n",
    "        h = jnp.zeros((steps, batch_size, hidden_dim))  # S, B, H\n",
    "        h = h.at[-1].set(h0)\n",
    "        for ix in range(steps):\n",
    "            h = h.at[ix].set(\n",
    "                jnp.tanh(h[ix - 1] @ w_hh + x[ix] @ w_xh + b_h)\n",
    "            )\n",
    "            res = res.at[ix].set(\n",
    "                h[ix] @ w_hy + b_y\n",
    "            )\n",
    "\n",
    "        return res, h\n",
    "\n",
    "    @staticmethod\n",
    "    def lstm_cell(x, h0, c0,\n",
    "                    Ws, Us, Bs):\n",
    "        '''\n",
    "        Input\n",
    "        -----\n",
    "        x: (S, B, I)\n",
    "        h0: (B, H)\n",
    "        c0: (B, H)\n",
    "        Ws: (4, I, H)\n",
    "        Us: (4, H, H)\n",
    "        Bs: (4, H)\n",
    "\n",
    "        Output\n",
    "        ------\n",
    "        res: (S, B, H)\n",
    "        h: (S, B, H)\n",
    "        c: (S, B, H)\n",
    "        '''\n",
    "\n",
    "        def sigmoid(x):\n",
    "            return 1 / (1 + jnp.exp(-x))\n",
    "\n",
    "        w_i, w_f, w_c, w_o = Ws  # (I, H)\n",
    "        u_i, u_f, u_c, u_o = Us  # (H, H)\n",
    "        b_i, b_f, b_c, b_o = Bs  # (H)\n",
    "\n",
    "        steps, batch_size, input_dim = x.shape  # S, B, I\n",
    "        _, hidden_dim = w_i.shape\n",
    "\n",
    "        res = jnp.zeros((steps, batch_size, hidden_dim))  # S, B, H\n",
    "        h = jnp.zeros((steps, batch_size, hidden_dim)) # S, B, H\n",
    "        h = h.at[-1].set(h0)\n",
    "        c = jnp.zeros((steps, batch_size, hidden_dim))  # S, B, H\n",
    "        c = c.at[-1].set(c0)\n",
    "\n",
    "        for ix in range(steps):\n",
    "            I = sigmoid(x[ix] @ w_i + h[ix - 1] @ u_i + b_i)\n",
    "            F = sigmoid(x[ix] @ w_f + h[ix - 1] @ u_f + b_f)\n",
    "            C = jnp.tanh(x[ix] @ w_c + h[ix - 1] @ u_c + b_c)\n",
    "            O = sigmoid(x[ix] @ w_o + h[ix - 1] @ u_o + b_o)\n",
    "\n",
    "            c = c.at[ix].set(\n",
    "                F*c[ix - 1] + I*C\n",
    "            )\n",
    "            h = h.at[ix].set(\n",
    "                O*jnp.tanh(C)\n",
    "            )\n",
    "            res = res.at[ix].set(\n",
    "                O\n",
    "            )\n",
    "\n",
    "        return res, h, c\n",
    "\n",
    "    @staticmethod\n",
    "    def gru_cell(x, h0, \n",
    "                    Ws, Us, Bs):\n",
    "        '''\n",
    "        Input\n",
    "        -----\n",
    "        x: (S, B, I)\n",
    "        h0: (S, B, H)\n",
    "        Ws: 3 * (I, H)\n",
    "        Us: 3 * (H, H)\n",
    "        Bs: 3 * (H)\n",
    "\n",
    "        Output\n",
    "        ------\n",
    "        res: (S, B, H)\n",
    "        h: (S, B, H)\n",
    "        '''\n",
    "\n",
    "        def sigmoid(x):\n",
    "            return 1 / (1 + jnp.exp(-x))\n",
    "\n",
    "        w_z, w_r, w_h = Ws  # (I, H)\n",
    "        u_z, u_r, u_h = Us  # (H, H)\n",
    "        b_z, b_r, b_h = Bs  # (H)\n",
    "\n",
    "        steps, batch_size, input_dim = x.shape  # S, B, I\n",
    "        _, hidden_dim = w_z.shape\n",
    "\n",
    "        res = jnp.zeros((steps, batch_size, hidden_dim))  # S, B, H\n",
    "        h = jnp.zeros((steps, batch_size, hidden_dim)) # S, B, H\n",
    "        h = h.at[-1].set(h0)\n",
    "\n",
    "        for ix in range(steps):\n",
    "            R = sigmoid(x[ix] @ w_r + h[ix - 1] @ u_r + b_r)\n",
    "            Z = sigmoid(x[ix] @ w_z + h[ix - 1] @ u_z + b_z)\n",
    "\n",
    "            H = jnp.tanh(x[ix] @ w_h + (R * h[ix - 1]) @ u_h + b_h)\n",
    "\n",
    "            h = h.at[ix].set(\n",
    "                (1 - Z) * h[ix - 1] + Z * H\n",
    "            )\n",
    "\n",
    "        return h"
   ]
  },
  {
   "cell_type": "code",
   "execution_count": 3,
   "id": "c04c82b5-7986-4e6c-bdec-39633ca0551e",
   "metadata": {},
   "outputs": [
    {
     "name": "stdout",
     "output_type": "stream",
     "text": [
      "(1000, 6)\n",
      "[[0. 0. 0. 0. 1. 0.]\n",
      " [1. 0. 0. 0. 0. 0.]\n",
      " [0. 0. 1. 0. 0. 0.]\n",
      " [0. 0. 0. 1. 0. 0.]\n",
      " [0. 1. 0. 0. 0. 0.]\n",
      " [0. 0. 1. 0. 0. 0.]\n",
      " [0. 0. 1. 0. 0. 0.]\n",
      " [0. 0. 0. 1. 0. 0.]\n",
      " [0. 0. 0. 1. 0. 0.]\n",
      " [0. 0. 0. 1. 0. 0.]]\n"
     ]
    }
   ],
   "source": [
    "batch_size = 1000\n",
    "time_steps = 128\n",
    "input_dim = 9\n",
    "output_dim = 6\n",
    "hidden_dim = 64\n",
    "\n",
    "x = random.normal(key, (time_steps, batch_size, input_dim))\n",
    "\n",
    "\n",
    "def softmax(logits):\n",
    "    logits_stable = logits - jnp.max(logits, axis=1, keepdims=True)\n",
    "    exp_logits = jnp.exp(logits_stable)\n",
    "    return exp_logits / jnp.sum(exp_logits, axis=1, keepdims=True)\n",
    "\n",
    "def cross_entropy_loss(y, y_pred):\n",
    "    epsilon = 1e-9\n",
    "    y_pred_clipped = jnp.clip(y_pred, epsilon, 1. - epsilon)  # clip here is very important, or you will get Nan when you training. \n",
    "    loss = -jnp.sum(y * jnp.log(y_pred_clipped), axis=1)\n",
    "    return loss.mean()\n",
    "\n",
    "y_true = random.randint(key, (1000,), 0, 5)\n",
    "\n",
    "def one_hot(x, num_class):\n",
    "    res = jnp.zeros((x.shape[0], num_class))\n",
    "    res = res.at[jnp.arange(x.shape[0]), x].set(1)\n",
    "    return res\n",
    "\n",
    "y_true = one_hot(y_true, output_dim)\n",
    "\n",
    "print(y_true.shape)\n",
    "print(y_true[:10])"
   ]
  },
  {
   "cell_type": "markdown",
   "id": "86595cef-5a80-4f65-8213-06d8152183a3",
   "metadata": {},
   "source": [
    "# # test for normal cell"
   ]
  },
  {
   "cell_type": "code",
   "execution_count": 4,
   "id": "f80043bb-5400-43f6-9931-4ca0f9c467d9",
   "metadata": {},
   "outputs": [],
   "source": [
    "h0 = random.normal(key, (batch_size, hidden_dim))\n",
    "\n",
    "w_hh = random.normal(key, (hidden_dim, hidden_dim))\n",
    "w_xh = random.normal(key, (input_dim, hidden_dim))\n",
    "b_h = random.normal(key, (hidden_dim))\n",
    "w_hy = random.normal(key, (hidden_dim, output_dim))\n",
    "b_y = random.normal(key, (output_dim))\n",
    "\n",
    "@jit\n",
    "def loss(w_hh, w_xh, b_h, w_hy, b_y):\n",
    "    res, _ = OriginalVersion.normal_cell(x, h0, w_hh, w_xh, b_h, w_hy, b_y)\n",
    "    logits = res[-1]\n",
    "    proba = softmax(logits)\n",
    "    lo = cross_entropy_loss(y_true, proba)\n",
    "\n",
    "    return lo"
   ]
  },
  {
   "cell_type": "code",
   "execution_count": 5,
   "id": "f287a56e-5c15-43a6-ada4-bd38f86bfa27",
   "metadata": {},
   "outputs": [
    {
     "name": "stdout",
     "output_type": "stream",
     "text": [
      "(128, 1000, 6)\n",
      "res: \n",
      " [[  8.66937     -1.9780154   -9.532201    11.172364     1.1787364\n",
      "    2.5646725 ]\n",
      " [  6.774772    -4.0882893   -0.89915705  -3.9126399   -2.888041\n",
      "   -2.898172  ]\n",
      " [  3.0921602  -14.344307     3.7016938  -10.14012      8.677878\n",
      "   -7.758292  ]\n",
      " ...\n",
      " [ -4.9551196    4.8915215   10.054241   -13.020678     2.0951357\n",
      "   -1.1433754 ]\n",
      " [  1.3927512   10.878891   -17.823631     8.056272    -2.5641198\n",
      "   -4.1883535 ]\n",
      " [ -5.8027096   -1.3530209   -0.57130706   0.7142793    2.584575\n",
      "   13.048897  ]]\n",
      "res: \n",
      " [[  1.0190579   3.9091406  -9.910453    2.5703552   9.322914    6.368651 ]\n",
      " [ 13.950739   -5.5121355  -8.111554    2.3537805   2.5091462  -3.8911343]\n",
      " [  4.0426297  -2.2920299  -8.372124   -0.3052504   8.704442    7.8723865]\n",
      " ...\n",
      " [ -1.2945749  -3.6627593 -10.36847   -10.822591    1.5282776   7.798837 ]\n",
      " [ -4.212191    9.458644   -5.5591736   3.7447376  -2.4790366   9.87258  ]\n",
      " [ -8.179989   -0.2797513   3.0643513   3.6697965   0.7604062   7.428778 ]]\n",
      "\n",
      "(128, 1000, 64)\n",
      "h: \n",
      " [[ 0.99807787 -0.999838    0.92855    ... -0.998809   -1.\n",
      "   1.        ]\n",
      " [ 0.9912603   0.9995329  -0.9999744  ...  1.         -0.98238146\n",
      "   0.9999129 ]\n",
      " [ 1.          1.         -1.         ... -1.         -0.8973986\n",
      "  -1.        ]\n",
      " ...\n",
      " [ 0.99720794  0.99980783  0.5340945  ... -1.         -0.9999167\n",
      "  -0.9999171 ]\n",
      " [-1.         -1.         -0.63013667 ... -0.00432942 -0.99920267\n",
      "  -1.        ]\n",
      " [-1.         -0.9999861   1.         ... -0.9999984  -1.\n",
      "   1.        ]]\n",
      "h: \n",
      " [[-0.99963075 -1.          0.998226   ...  0.99989885 -1.\n",
      "   1.        ]\n",
      " [-1.          0.9998618   0.85525906 ...  1.          0.99994797\n",
      "   1.        ]\n",
      " [-0.9947949  -0.99960154  0.9627676  ...  1.         -1.\n",
      "  -0.99997294]\n",
      " ...\n",
      " [-0.99344015 -0.81594604  1.         ...  1.         -1.\n",
      "  -1.        ]\n",
      " [-1.         -0.49632704 -0.9986826  ...  0.97675276 -1.\n",
      "  -0.9063251 ]\n",
      " [-0.95078385 -0.10417815 -0.99985987 ... -0.65893084  0.97381306\n",
      "   0.999961  ]]\n",
      "\n"
     ]
    }
   ],
   "source": [
    "res, h = OriginalVersion.normal_cell(x, h0, w_hh, w_xh, b_h, w_hy, b_y)\n",
    "\n",
    "print(res.shape)\n",
    "print(f'res: \\n {res[0]}')\n",
    "print(f'res: \\n {res[-1]}')\n",
    "print()\n",
    "print(h.shape)\n",
    "print(f'h: \\n {h[0]}')\n",
    "print(f'h: \\n {h[-1]}')\n",
    "print()"
   ]
  },
  {
   "cell_type": "code",
   "execution_count": 7,
   "id": "a01d9774-fc64-4d1c-a904-94c980390550",
   "metadata": {},
   "outputs": [
    {
     "name": "stdout",
     "output_type": "stream",
     "text": [
      "cost: 0.00043582916259765625\n"
     ]
    }
   ],
   "source": [
    "import time\n",
    "\n",
    "s = time.time()\n",
    "lo = loss(w_hh, w_xh, b_h, w_hy, b_y)\n",
    "print(f'cost: {time.time() - s}')"
   ]
  },
  {
   "cell_type": "code",
   "execution_count": 10,
   "id": "dcdedece-7f65-4dfe-a720-e3ac8feaa33d",
   "metadata": {},
   "outputs": [
    {
     "name": "stdout",
     "output_type": "stream",
     "text": [
      "cost: 0.012967348098754883\n"
     ]
    }
   ],
   "source": [
    "s = time.time()\n",
    "d_w_hh = grad(loss, argnums=0)(w_hh, w_xh, b_h, w_hy, b_y)\n",
    "print(f'cost: {time.time() - s}')"
   ]
  },
  {
   "cell_type": "markdown",
   "id": "e812473a-46a2-430a-9f43-bf3f2ec7c199",
   "metadata": {},
   "source": [
    "# # test for LSTM cell"
   ]
  },
  {
   "cell_type": "code",
   "execution_count": 11,
   "id": "4b313245-1fe5-48f9-aa3d-8a3021570a13",
   "metadata": {},
   "outputs": [],
   "source": [
    "x = random.normal(key, (time_steps, batch_size, input_dim))\n",
    "h0 = random.normal(key, (batch_size, hidden_dim))\n",
    "c0 = random.normal(key, (batch_size, hidden_dim))\n",
    "\n",
    "Ws = [random.normal(key, (input_dim, hidden_dim)) for _ in range(4)]\n",
    "Us = [random.normal(key, (hidden_dim, hidden_dim)) for _ in range(4)]\n",
    "Bs = [random.normal(key, (hidden_dim)) for _ in range(4)]\n",
    "\n",
    "# fc layer\n",
    "w = random.normal(key, (hidden_dim, output_dim))\n",
    "b = random.normal(key, (output_dim))\n",
    "\n",
    "@jit\n",
    "def loss(Ws, Us, Bs, w, b):\n",
    "    res, _, _ = OriginalVersion.lstm_cell(x, h0, c0, Ws, Us, Bs)\n",
    "    logits = res[-1] @ w + b\n",
    "    proba = softmax(logits)\n",
    "    lo = cross_entropy_loss(y_true, proba)\n",
    "\n",
    "    return lo"
   ]
  },
  {
   "cell_type": "code",
   "execution_count": 12,
   "id": "530a1977-4b0d-4217-8af7-8818010a5227",
   "metadata": {},
   "outputs": [
    {
     "name": "stdout",
     "output_type": "stream",
     "text": [
      "(128, 1000, 64)\n",
      "res: \n",
      "[[9.69917059e-01 8.92088935e-03 8.38588595e-01 ... 2.38286518e-02\n",
      "  1.13636515e-05 9.99993205e-01]\n",
      " [9.37866569e-01 9.84946728e-01 3.56435962e-03 ... 9.99959230e-01\n",
      "  8.61522481e-02 9.93443251e-01]\n",
      " [9.99974728e-01 1.00000000e+00 1.84506334e-07 ... 8.99734277e-06\n",
      "  1.88667193e-01 7.30012107e-05]\n",
      " ...\n",
      " [9.63957965e-01 9.90295529e-01 6.44707739e-01 ... 5.12012139e-06\n",
      "  6.41178712e-03 6.39698002e-03]\n",
      " [1.04544124e-08 2.62359686e-06 3.22645038e-01 ... 4.98917669e-01\n",
      "  1.95793733e-02 6.93655511e-06]\n",
      " [6.30637764e-09 2.62113311e-03 9.99986768e-01 ... 8.90103693e-04\n",
      "  2.37014814e-04 9.99993920e-01]]\n",
      "res: \n",
      "[[9.9962735e-01 8.1208688e-01 9.7131777e-01 ... 9.9817574e-01\n",
      "  5.4641280e-02 2.9876885e-01]\n",
      " [9.6802384e-01 9.9897939e-01 6.7911730e-03 ... 9.9219877e-01\n",
      "  4.0285251e-01 1.5354355e-01]\n",
      " [9.4644415e-01 9.9155831e-01 2.3182090e-01 ... 9.3571478e-01\n",
      "  2.7067055e-05 9.9094427e-01]\n",
      " ...\n",
      " [9.9469912e-01 9.9858010e-01 9.4757545e-01 ... 9.7912121e-01\n",
      "  6.7130703e-01 7.3915243e-01]\n",
      " [9.9422669e-01 9.9860889e-01 1.8403223e-01 ... 8.7745595e-01\n",
      "  2.2759582e-03 3.7123315e-02]\n",
      " [9.7717243e-01 9.2353916e-01 2.3019182e-02 ... 9.0754831e-01\n",
      "  7.8381115e-01 7.6329272e-04]]\n",
      "\n",
      "(128, 1000, 64)\n",
      "res: \n",
      "[[ 7.3789901e-01 -6.7934906e-03  6.1210024e-01 ... -1.8135833e-02\n",
      "  -8.6544906e-06  7.6158899e-01]\n",
      " [ 7.1080828e-01  7.4993640e-01 -2.7145571e-03 ...  7.6156312e-01\n",
      "  -6.4966984e-02  7.5656432e-01]\n",
      " [ 7.6157492e-01  7.6159418e-01 -1.4051895e-07 ... -6.8523241e-06\n",
      "  -1.3490251e-01 -5.5597298e-05]\n",
      " ...\n",
      " [ 7.3301202e-01  7.5412345e-01  3.1494281e-01 ... -3.8994544e-06\n",
      "  -4.8829555e-03 -4.8716804e-03]\n",
      " [-7.9620195e-09 -1.9981160e-06 -1.8008314e-01 ... -2.1600085e-03\n",
      "  -1.4904977e-02 -5.2828400e-06]\n",
      " [-4.8029003e-09 -1.9962245e-03  7.6158410e-01 ... -6.7789713e-04\n",
      "  -1.8050910e-04  7.6158953e-01]]\n",
      "res: \n",
      "[[ 7.6131028e-01  5.8104491e-01  7.3903817e-01 ...  7.6020211e-01\n",
      "  -4.1460883e-02 -1.7917971e-01]\n",
      " [ 7.3635358e-01  7.6081604e-01 -5.1718513e-03 ...  7.5560135e-01\n",
      "  -1.4417347e-01 -1.1262603e-01]\n",
      " [ 7.1825665e-01  7.5510472e-01 -1.5812884e-01 ...  7.0891613e-01\n",
      "  -2.0614112e-05  7.5462794e-01]\n",
      " ...\n",
      " [ 7.5753337e-01  7.6051110e-01  7.1922791e-01 ...  7.4531901e-01\n",
      "   3.6680609e-01  4.8181555e-01]\n",
      " [ 7.5716913e-01  7.6053315e-01 -1.3210703e-01 ...  6.5374929e-01\n",
      "  -1.7333466e-03 -2.8226515e-02]\n",
      " [ 7.4376076e-01  6.9802618e-01 -1.7520538e-02 ...  6.8323088e-01\n",
      "   5.4517114e-01 -5.8131898e-04]]\n",
      "\n",
      "(128, 1000, 64)\n",
      "res: \n",
      "[[ 2.5418811e+00  9.1477185e-03  4.1506410e-01 ... -3.6183238e-02\n",
      "  -3.0332045e-05  1.6753430e+00]\n",
      " [ 1.1429288e+00 -1.7779249e-01 -7.0456984e-03 ...  6.9824976e-01\n",
      "  -7.3164769e-02  6.6272569e-01]\n",
      " [ 2.5699449e+00  1.5745121e+00 -5.1031591e-08 ... -8.8413108e-06\n",
      "  -9.2985898e-02 -1.5120918e-04]\n",
      " ...\n",
      " [ 1.1422950e+00 -5.2853829e-01  8.1436253e-01 ... -4.4816716e-06\n",
      "  -6.9704535e-03 -2.3173584e-02]\n",
      " [-2.9969407e-08 -1.6003894e-06 -1.0737418e-01 ...  4.2717549e-01\n",
      "  -4.6016768e-02 -2.1043074e-06]\n",
      " [-7.8597688e-09 -6.2096179e-03  5.4076159e-01 ... -2.6973797e-04\n",
      "  -3.3519746e-04  8.4867740e-01]]\n",
      "res: \n",
      "[[ 1.45598650e+00  3.21810627e+00  1.93586719e+00 ...  3.82962704e+00\n",
      "  -2.61933468e-02 -1.06219694e-01]\n",
      " [ 3.33593273e+00  3.08245778e+00  6.06628694e-03 ...  1.10271561e+00\n",
      "   2.37497881e-01 -6.38177842e-02]\n",
      " [ 3.58883119e+00  7.79210472e+00 -1.93125620e-01 ...  1.01862693e+00\n",
      "  -3.20143336e-05  1.41972649e+00]\n",
      " ...\n",
      " [ 4.59606028e+00  2.01078606e+00  1.81058621e+00 ...  1.90361357e+00\n",
      "   7.51952887e-01  4.72973406e-01]\n",
      " [ 8.36977959e+00  3.19933701e+00 -1.67213365e-01 ...  6.08372569e-01\n",
      "  -2.81138252e-03 -3.70525494e-02]\n",
      " [ 2.88805676e+00  3.19352388e+00 -2.52230093e-04 ...  2.65220380e+00\n",
      "   1.21691942e+00 -8.93738412e-04]]\n",
      "\n"
     ]
    }
   ],
   "source": [
    "res, h, c = OriginalVersion.lstm_cell(x, h0, c0, Ws, Us, Bs)\n",
    "\n",
    "print(res.shape)\n",
    "print(f'res: \\n{res[0]}')\n",
    "print(f'res: \\n{res[-1]}')\n",
    "print()\n",
    "print(h.shape)\n",
    "print(f'res: \\n{h[0]}')\n",
    "print(f'res: \\n{h[-1]}')\n",
    "print()\n",
    "print(c.shape)\n",
    "print(f'res: \\n{c[0]}')\n",
    "print(f'res: \\n{c[-1]}')\n",
    "print()"
   ]
  },
  {
   "cell_type": "code",
   "execution_count": 14,
   "id": "c9066f59-c4e5-4ed6-a854-fe2d7da4db8b",
   "metadata": {},
   "outputs": [
    {
     "name": "stdout",
     "output_type": "stream",
     "text": [
      "cost: 0.0003101825714111328\n"
     ]
    }
   ],
   "source": [
    "s = time.time()\n",
    "lo = loss(Ws, Us, Bs, w, b)\n",
    "\n",
    "print(f'cost: {time.time() - s}')"
   ]
  },
  {
   "cell_type": "code",
   "execution_count": 19,
   "id": "a997e6c9-cbf9-427f-af61-ef1aa275d29e",
   "metadata": {},
   "outputs": [
    {
     "name": "stdout",
     "output_type": "stream",
     "text": [
      "cost: 0.027780771255493164\n"
     ]
    }
   ],
   "source": [
    "s = time.time()\n",
    "gd = grad(loss, argnums=0)(Ws, Us, Bs, w, b)\n",
    "\n",
    "print(f'cost: {time.time() - s}')"
   ]
  },
  {
   "cell_type": "markdown",
   "id": "12abbe79-d9c1-453d-89e2-92f343844781",
   "metadata": {},
   "source": [
    "# # test for GRU cell"
   ]
  },
  {
   "cell_type": "code",
   "execution_count": 50,
   "id": "33c72d91-d7b0-45ac-a8e0-e63bdd54afc6",
   "metadata": {},
   "outputs": [],
   "source": [
    "x = random.normal(key, (time_steps, batch_size, input_dim))\n",
    "h0 = random.normal(key, (batch_size, hidden_dim))\n",
    "\n",
    "Ws = [random.normal(key, (input_dim, hidden_dim)) for _ in range(3)]\n",
    "Us = [random.normal(key, (hidden_dim, hidden_dim)) for _ in range(3)]\n",
    "Bs = [random.normal(key, (hidden_dim)) for _ in range(3)]\n",
    "\n",
    "# fc layer\n",
    "w = random.normal(key, (hidden_dim, output_dim))\n",
    "b = random.normal(key, (output_dim))\n",
    "\n",
    "@jit\n",
    "def loss(Ws, Us, Bs, w, b):\n",
    "    res = OriginalVersion.gru_cell(x, h0, Ws, Us, Bs)\n",
    "    logits = res[-1] @ w + b\n",
    "    proba = softmax(logits)\n",
    "    lo = cross_entropy_loss(y_true, proba)\n",
    "\n",
    "    return lo"
   ]
  },
  {
   "cell_type": "code",
   "execution_count": 51,
   "id": "9f714aa3-c91f-4659-b408-d13a71ff6549",
   "metadata": {},
   "outputs": [
    {
     "name": "stdout",
     "output_type": "stream",
     "text": [
      "(128, 1000, 64)\n",
      "res: \n",
      "[[ 1.0187309   1.9993063   0.71674156 ... -0.52912116 -1.6692089\n",
      "   0.9993596 ]\n",
      " [-0.39627454  0.95510256 -0.9753823  ...  0.9998114   0.20660144\n",
      "   0.9908003 ]\n",
      " [ 1.0000037   1.          0.7234152  ...  0.01733283  0.13955556\n",
      "  -1.0713109 ]\n",
      " ...\n",
      " [ 0.97045386  0.97538894  0.8471778  ...  0.12468851 -0.09145955\n",
      "  -2.6021852 ]\n",
      " [-1.8666751   0.38999814 -0.10754696 ...  0.01773185 -1.330422\n",
      "   0.6966255 ]\n",
      " [-0.24632064 -1.3629702   0.9991948  ...  0.69544685 -0.4143857\n",
      "   0.99951446]]\n",
      "res: \n",
      "[[ 0.9999984   0.9998255   0.9998114  ...  0.9507475   0.6827151\n",
      "   0.7985372 ]\n",
      " [ 0.9999942   0.99759394  0.99878114 ...  0.7878383   0.99831545\n",
      "   0.9857281 ]\n",
      " [ 0.9977804   0.99998593  0.59166765 ...  0.99699116  0.05741335\n",
      "   0.9959601 ]\n",
      " ...\n",
      " [ 0.994446    0.9997472   0.9999921  ...  0.5379023   0.9994596\n",
      "   0.9772161 ]\n",
      " [ 1.          0.99999624  0.6755853  ... -0.1219774   0.4803075\n",
      "  -0.5124174 ]\n",
      " [ 0.98375964  0.99986595  0.28833    ... -0.4977213   0.581353\n",
      "   0.98541087]]\n",
      "\n"
     ]
    }
   ],
   "source": [
    "res = OriginalVersion.gru_cell(x, h0, Ws, Us, Bs)\n",
    "\n",
    "print(res.shape)\n",
    "print(f'res: \\n{res[0]}')\n",
    "print(f'res: \\n{res[-1]}')\n",
    "print()"
   ]
  },
  {
   "cell_type": "code",
   "execution_count": 53,
   "id": "686e1a65-7b77-4678-8a77-70966cf85963",
   "metadata": {},
   "outputs": [
    {
     "name": "stdout",
     "output_type": "stream",
     "text": [
      "cost: 0.0004401206970214844\n"
     ]
    }
   ],
   "source": [
    "s = time.time()\n",
    "lo = loss(Ws, Us, Bs, w, b)\n",
    "\n",
    "print(f'cost: {time.time() - s}')"
   ]
  },
  {
   "cell_type": "code",
   "execution_count": 55,
   "id": "2856d754-40a2-4af2-b7d9-19d280f2f972",
   "metadata": {},
   "outputs": [
    {
     "name": "stdout",
     "output_type": "stream",
     "text": [
      "cost: 0.06224656105041504\n"
     ]
    }
   ],
   "source": [
    "s = time.time()\n",
    "gd = grad(loss, argnums=0)(Ws, Us, Bs, w, b)\n",
    "\n",
    "print(f'cost: {time.time() - s}')"
   ]
  }
 ],
 "metadata": {
  "kernelspec": {
   "display_name": "Python 3 (ipykernel)",
   "language": "python",
   "name": "python3"
  },
  "language_info": {
   "codemirror_mode": {
    "name": "ipython",
    "version": 3
   },
   "file_extension": ".py",
   "mimetype": "text/x-python",
   "name": "python",
   "nbconvert_exporter": "python",
   "pygments_lexer": "ipython3",
   "version": "3.13.2+"
  }
 },
 "nbformat": 4,
 "nbformat_minor": 5
}
