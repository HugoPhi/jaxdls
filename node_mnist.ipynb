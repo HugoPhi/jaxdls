{
 "cells": [
  {
   "cell_type": "code",
   "execution_count": 1,
   "id": "74db3798-872d-4ed1-92ed-b12ad5bd8502",
   "metadata": {},
   "outputs": [],
   "source": [
    "import jax.numpy as jnp\n",
    "from jax import random, grad, jit, random"
   ]
  },
  {
   "cell_type": "code",
   "execution_count": 2,
   "id": "fa323aa3-5a2a-42fb-9b5b-b82b8aca840e",
   "metadata": {},
   "outputs": [
    {
     "name": "stdout",
     "output_type": "stream",
     "text": [
      "mnsit at: /home/tibless/.cache/kagglehub/datasets/hojjatk/mnist-dataset/versions/1\n"
     ]
    }
   ],
   "source": [
    "import kagglehub\n",
    "import matplotlib.pyplot as plt\n",
    "import numpy as np\n",
    "\n",
    "path = kagglehub.dataset_download(\"hojjatk/mnist-dataset\")  # download mnist\n",
    "# path = '/home/tibless/.cache/kagglehub/datasets/hojjatk/mnist-dataset/versions/1'\n",
    "key = random.PRNGKey(42)\n",
    "print(f'mnsit at: {path}')"
   ]
  },
  {
   "cell_type": "code",
   "execution_count": 3,
   "id": "b8cbb863-ed51-4d9e-b182-15afa220eb3c",
   "metadata": {},
   "outputs": [
    {
     "name": "stdout",
     "output_type": "stream",
     "text": [
      "训练图像数据大小:  (60000, 28, 28)\n",
      "训练标签数据大小:  (60000,)\n",
      "测试图像数据大小:  (10000, 28, 28)\n",
      "测试标签数据大小:  (10000,)\n"
     ]
    }
   ],
   "source": [
    "# load mnist\n",
    "\n",
    "import os\n",
    "import struct\n",
    "import numpy as np\n",
    "\n",
    "def read_idx(filename):\n",
    "    \"\"\"\n",
    "    Read MNIST data from file using idx format.\n",
    "\n",
    "    Return\n",
    "    ------\n",
    "    np.ndarray\n",
    "    \"\"\"\n",
    "    with open(filename, 'rb') as f:\n",
    "        zero, data_type, dims = struct.unpack('>HBB', f.read(4))\n",
    "        shape = tuple(struct.unpack('>I', f.read(4))[0] for d in range(dims))\n",
    "        return np.frombuffer(f.read(), dtype=np.uint8).reshape(shape)\n",
    "\n",
    "TRAIN = 60000\n",
    "TEST  = 10000\n",
    "train_images = read_idx(os.path.join(path, 'train-images.idx3-ubyte'))[:TRAIN]\n",
    "train_labels = read_idx(os.path.join(path, 'train-labels.idx1-ubyte'))[:TRAIN]\n",
    "test_images = read_idx(os.path.join(path, 't10k-images.idx3-ubyte'))[:TEST]\n",
    "test_labels = read_idx(os.path.join(path, 't10k-labels.idx1-ubyte'))[:TEST]\n",
    "\n",
    "shuffle_kernel = np.random.permutation(np.arange(TRAIN))\n",
    "train_images = train_images[shuffle_kernel]\n",
    "train_labels = train_labels[shuffle_kernel]\n",
    "\n",
    "print(\"训练图像数据大小: \", train_images.shape)\n",
    "print(\"训练标签数据大小: \", train_labels.shape)\n",
    "print(\"测试图像数据大小: \", test_images.shape)\n",
    "print(\"测试标签数据大小: \", test_labels.shape)"
   ]
  },
  {
   "cell_type": "code",
   "execution_count": 4,
   "id": "20be6a6f-339f-44ca-a26d-b97dc7702ed0",
   "metadata": {},
   "outputs": [
    {
     "data": {
      "image/png": "[encoded data removed]",
      "text/plain": [
       "<Figure size 640x480 with 1 Axes>"
      ]
     },
     "metadata": {},
     "output_type": "display_data"
    }
   ],
   "source": [
    "ix = 4\n",
    "plt.imshow(train_images[ix], cmap='gray')\n",
    "plt.title(f\"Label: {train_labels[ix]}\")\n",
    "plt.axis('off')  # 不显示坐标轴\n",
    "plt.show()"
   ]
  },
  {
   "cell_type": "code",
   "execution_count": 5,
   "id": "c4f47a7d-7b4b-437b-a72c-61572bb8933b",
   "metadata": {},
   "outputs": [],
   "source": [
    "X_train = jnp.array(train_images.reshape(train_images.shape[0], -1)) / 255.  # normalization to accelerate training & convergency\n",
    "y_train = jnp.array(train_labels)\n",
    "X_test = jnp.array(test_images.reshape(test_images.shape[0], -1)) / 255.\n",
    "y_test = jnp.array(test_labels)\n",
    "\n",
    "def one_hot(y: jnp.ndarray, num_class: int):\n",
    "    res = jnp.zeros((y.shape[0], num_class))\n",
    "    res = res.at[jnp.arange(y.shape[0]), y].set(1)\n",
    "    return res\n",
    "\n",
    "y_train_one_hot = one_hot(y_train, 10)\n",
    "y_test_one_hot = one_hot(y_test, 10)"
   ]
  },
  {
   "cell_type": "code",
   "execution_count": null,
   "id": "8acfee25-d81e-446e-8524-841f242c2798",
   "metadata": {},
   "outputs": [],
   "source": []
  }
 ],
 "metadata": {
  "kernelspec": {
   "display_name": "Python 3 (ipykernel)",
   "language": "python",
   "name": "python3"
  },
  "language_info": {
   "codemirror_mode": {
    "name": "ipython",
    "version": 3
   },
   "file_extension": ".py",
   "mimetype": "text/x-python",
   "name": "python",
   "nbconvert_exporter": "python",
   "pygments_lexer": "ipython3",
   "version": "3.13.2+"
  }
 },
 "nbformat": 4,
 "nbformat_minor": 5
}
