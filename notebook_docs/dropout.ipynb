{
 "cells": [
  {
   "cell_type": "code",
   "execution_count": 1,
   "id": "33c3413d-fddc-45ad-b457-d87de0343e7f",
   "metadata": {},
   "outputs": [],
   "source": [
    "import jax.numpy as jnp\n",
    "from jax import random, jit"
   ]
  },
  {
   "cell_type": "code",
   "execution_count": 8,
   "id": "9695f476-028b-4da5-97c0-c274a99d25e8",
   "metadata": {},
   "outputs": [],
   "source": [
    "def dropout(x: jnp.ndarray, key, p=0.5, train=True):\n",
    "    if not train:\n",
    "        return x, key\n",
    "    p_keep = 1 - p\n",
    "    mask = random.bernoulli(key, p_keep, x.shape)\n",
    "    new_key, _ = random.split(key)  # update key\n",
    "\n",
    "    return jnp.where(mask, x/p_keep, 0), new_key  # scale here to make E(X) the same while evaluating.\n",
    "\n",
    "# dropout = jit(dropout, static_argnames=('train'))  # not use jit here"
   ]
  },
  {
   "cell_type": "code",
   "execution_count": 11,
   "id": "ec15a59c-54b4-4ef8-9d9a-0c3a9406e5c6",
   "metadata": {},
   "outputs": [
    {
     "name": "stdout",
     "output_type": "stream",
     "text": [
      "Batch 1 结果:\n",
      " [0. 2. 2. 2. 0.]\n",
      "Batch 2 结果:\n",
      " [2. 2. 2. 2. 2.]\n",
      "Batch 3 结果:\n",
      " [2. 0. 2. 0. 2.]\n",
      "time: 0.0011780261993408203\n"
     ]
    }
   ],
   "source": [
    "key = random.PRNGKey(41)\n",
    "x = jnp.ones((5))  # 输入数据\n",
    "\n",
    "train = True\n",
    "p = 0.5\n",
    "\n",
    "import time\n",
    "s = time.time()\n",
    "for i in range(3):  # 模拟3个batch\n",
    "    x_dropout, key = dropout(x, key, p, train)\n",
    "    print(f\"Batch {i+1} 结果:\\n\", x_dropout)\n",
    "\n",
    "print(f'time: {time.time() - s}')"
   ]
  }
 ],
 "metadata": {
  "kernelspec": {
   "display_name": "Python 3 (ipykernel)",
   "language": "python",
   "name": "python3"
  },
  "language_info": {
   "codemirror_mode": {
    "name": "ipython",
    "version": 3
   },
   "file_extension": ".py",
   "mimetype": "text/x-python",
   "name": "python",
   "nbconvert_exporter": "python",
   "pygments_lexer": "ipython3",
   "version": "3.13.2+"
  }
 },
 "nbformat": 4,
 "nbformat_minor": 5
}
