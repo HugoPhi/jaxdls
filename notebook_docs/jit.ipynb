{
 "cells": [
  {
   "cell_type": "markdown",
   "id": "36b64b4e-88a1-4373-885d-4e6e395285f2",
   "metadata": {},
   "source": [
    "# When to use JIT ?"
   ]
  },
  {
   "cell_type": "code",
   "execution_count": null,
   "id": "faf77fae-3dad-4d47-904f-6d379e33dbc3",
   "metadata": {},
   "outputs": [],
   "source": []
  }
 ],
 "metadata": {
  "kernelspec": {
   "display_name": "Python 3 (ipykernel)",
   "language": "python",
   "name": "python3"
  },
  "language_info": {
   "codemirror_mode": {
    "name": "ipython",
    "version": 3
   },
   "file_extension": ".py",
   "mimetype": "text/x-python",
   "name": "python",
   "nbconvert_exporter": "python",
   "pygments_lexer": "ipython3",
   "version": "3.13.2+"
  }
 },
 "nbformat": 4,
 "nbformat_minor": 5
}
