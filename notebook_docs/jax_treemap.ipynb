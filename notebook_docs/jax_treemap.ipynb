{
 "cells": [
  {
   "cell_type": "code",
   "execution_count": 1,
   "id": "c808a128-1bdd-4f7a-87c6-862660d192e8",
   "metadata": {},
   "outputs": [],
   "source": [
    "import jax.numpy as jnp\n",
    "from jax import random, grad, jit, tree"
   ]
  },
  {
   "cell_type": "code",
   "execution_count": 2,
   "id": "73dee7a2-c011-4faf-b073-095623def4c6",
   "metadata": {},
   "outputs": [
    {
     "name": "stdout",
     "output_type": "stream",
     "text": [
      "{'layer1': {'bias': Array([1., 1.], dtype=float32), 'weight': Array([1., 1.], dtype=float32)}, 'layer2': {'Bs': Array([1., 1.], dtype=float32), 'Us': Array([1., 1.], dtype=float32), 'Ws': Array([1., 1.], dtype=float32)}}\n"
     ]
    }
   ],
   "source": [
    "weights = {'layer1': {'weight': jnp.array([1., 1.]), 'bias': jnp.array([1., 1.])},\n",
    "           'layer2': {'Ws': jnp.array([1., 1.]), 'Bs': jnp.array([1., 1.]), 'Us': jnp.array([1., 1.])}}\n",
    "\n",
    "v = tree.map(lambda x: jnp.ones_like(x), weights)\n",
    "\n",
    "import json\n",
    "print(v)"
   ]
  },
  {
   "cell_type": "code",
   "execution_count": 3,
   "id": "9fa3bd18-c5de-42e1-8777-8c620a311288",
   "metadata": {},
   "outputs": [
    {
     "name": "stdout",
     "output_type": "stream",
     "text": [
      "{'layer1': {'bias': Array([[2., 2.],\n",
      "       [1., 1.]], dtype=float32), 'weight': Array([[2., 2.],\n",
      "       [1., 1.]], dtype=float32)}, 'layer2': {'Bs': Array([[2., 2.],\n",
      "       [1., 1.]], dtype=float32), 'Us': Array([[2., 2.],\n",
      "       [1., 1.]], dtype=float32), 'Ws': Array([[2., 2.],\n",
      "       [1., 1.]], dtype=float32)}}\n",
      "{'layer1': {'bias': Array([2., 2.], dtype=float32), 'weight': Array([2., 2.], dtype=float32)}, 'layer2': {'Bs': Array([2., 2.], dtype=float32), 'Us': Array([2., 2.], dtype=float32), 'Ws': Array([2., 2.], dtype=float32)}}\n"
     ]
    }
   ],
   "source": [
    "def amap(x, y):\n",
    "    return jnp.stack((x + y, x*y))\n",
    "\n",
    "pack = tree.map(amap, weights, v)\n",
    "print(pack)\n",
    "xx = tree.map(lambda x: x[0], pack)\n",
    "print(xx)"
   ]
  },
  {
   "cell_type": "code",
   "execution_count": 4,
   "id": "cc2dff19-80e6-4e2f-935b-d399cce1d7d6",
   "metadata": {},
   "outputs": [
    {
     "name": "stdout",
     "output_type": "stream",
     "text": [
      "[1 1]\n",
      "[2 2]\n"
     ]
    }
   ],
   "source": [
    "x = jnp.array([[1, 1],\n",
    "               [2, 2]])\n",
    "\n",
    "x1, x2 = x\n",
    "print(x1)\n",
    "print(x2)"
   ]
  },
  {
   "cell_type": "code",
   "execution_count": 6,
   "id": "36a73b3a-4d35-4278-90c6-bccf82a6964c",
   "metadata": {},
   "outputs": [
    {
     "name": "stdout",
     "output_type": "stream",
     "text": [
      "True\n"
     ]
    }
   ],
   "source": [
    "name = 'Jack'\n",
    "print(name == 'Jack')"
   ]
  },
  {
   "cell_type": "code",
   "execution_count": 11,
   "id": "1bf72282-6122-48e5-a35d-4933fc037816",
   "metadata": {},
   "outputs": [
    {
     "name": "stdout",
     "output_type": "stream",
     "text": [
      "[1. 3. 5. 7.]\n"
     ]
    }
   ],
   "source": [
    "import jax\n",
    "import jax.numpy as jnp\n",
    "from jax import lax\n",
    "\n",
    "# 定义一个简单的累加器函数\n",
    "def f(carry, x):\n",
    "    sum = carry + x\n",
    "    carry = carry + 1\n",
    "    return carry, sum  # 返回新的状态和输出\n",
    "\n",
    "# 初始状态\n",
    "init = 0\n",
    "\n",
    "# 输入序列\n",
    "xs = jnp.array([1., 2., 3., 4.])\n",
    "\n",
    "# 使用lax.scan执行累积和\n",
    "state, result = lax.scan(f, init, xs)\n",
    "\n",
    "print(result)  # 输出: [1. 3. 6. 10.]"
   ]
  },
  {
   "cell_type": "code",
   "execution_count": null,
   "id": "c816ba93-853d-4fe7-a8ab-41a64a8c7471",
   "metadata": {},
   "outputs": [],
   "source": []
  }
 ],
 "metadata": {
  "kernelspec": {
   "display_name": "Python 3 (ipykernel)",
   "language": "python",
   "name": "python3"
  },
  "language_info": {
   "codemirror_mode": {
    "name": "ipython",
    "version": 3
   },
   "file_extension": ".py",
   "mimetype": "text/x-python",
   "name": "python",
   "nbconvert_exporter": "python",
   "pygments_lexer": "ipython3",
   "version": "3.13.2+"
  }
 },
 "nbformat": 4,
 "nbformat_minor": 5
}
