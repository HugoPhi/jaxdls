{
 "cells": [
  {
   "cell_type": "code",
   "execution_count": 1,
   "id": "f71be315-20e1-40c3-989c-b9fcb355ccb7",
   "metadata": {},
   "outputs": [
    {
     "name": "stdout",
     "output_type": "stream",
     "text": [
      "Path to dataset files: /home/tibless/.cache/kagglehub/datasets/drsaeedmohsen/ucihar-dataset/versions/1/UCI-HAR Dataset\n"
     ]
    }
   ],
   "source": [
    "import kagglehub\n",
    "\n",
    "# Download latest version\n",
    "path = kagglehub.dataset_download(\"drsaeedmohsen/ucihar-dataset\")\n",
    "path += '/UCI-HAR Dataset'\n",
    "print(\"Path to dataset files:\", path)"
   ]
  },
  {
   "cell_type": "code",
   "execution_count": 2,
   "id": "93e99f38-4eb7-4ce8-a284-eed894184789",
   "metadata": {},
   "outputs": [
    {
     "name": "stdout",
     "output_type": "stream",
     "text": [
      "X_train 形状: (7352, 9, 128)\n",
      "y_train 形状: (7352, 6)\n"
     ]
    }
   ],
   "source": [
    "import pandas as pd\n",
    "import numpy as np\n",
    "import jax.numpy as jnp\n",
    "from jax import random, vmap, jit, jax\n",
    "\n",
    "key = random.PRNGKey(0)\n",
    "\n",
    "TRAIN_PATH = path + '/train/Inertial Signals/'\n",
    "TEST_PATH = path + '/test/Inertial Signals/'\n",
    "PREFIXS = [\n",
    "    'body_acc_x_',\n",
    "    'body_acc_y_',\n",
    "    'body_acc_z_',\n",
    "    'body_gyro_x_',\n",
    "    'body_gyro_y_',\n",
    "    'body_gyro_z_',\n",
    "    'total_acc_x_',\n",
    "    'total_acc_y_',\n",
    "    'total_acc_z_',\n",
    "]\n",
    "\n",
    "\n",
    "X_train = []\n",
    "for prefix in PREFIXS:\n",
    "    X_train.append(pd.read_csv(TRAIN_PATH + prefix + 'train.txt', header=None, sep=r'\\s+').to_numpy())\n",
    "\n",
    "X_train = np.transpose(np.array(X_train), (1, 0, 2))\n",
    "X_train = jnp.array(X_train)\n",
    "\n",
    "X_test = []\n",
    "for prefix in PREFIXS:\n",
    "    X_test.append(pd.read_csv(TEST_PATH + prefix + 'test.txt', header=None, sep=r'\\s+').to_numpy())\n",
    "X_test = np.transpose(np.array(X_test), (1, 0, 2))\n",
    "X_test = jnp.array(X_test)\n",
    "\n",
    "\n",
    "y_train = jnp.array(pd.read_csv(path + '/train/y_train.txt', header=None).to_numpy().squeeze() - 1)\n",
    "y_test = jnp.array(pd.read_csv(path + '/test/y_test.txt', header=None).to_numpy().squeeze() - 1)\n",
    "\n",
    "# 将标签转换为 one-hot 编码\n",
    "def one_hot(y: jnp.ndarray, num_class: int):\n",
    "    res = jnp.zeros((y.shape[0], num_class))\n",
    "    res = res.at[jnp.arange(y.shape[0]), y].set(1)\n",
    "    return res\n",
    "\n",
    "y_train = one_hot(y_train, 6)\n",
    "\n",
    "print('X_train 形状:', X_train.shape)  # 应为 (7352, 9, 128)\n",
    "print('y_train 形状:', y_train.shape)  # 应为 (7352, 6)"
   ]
  },
  {
   "cell_type": "code",
   "execution_count": null,
   "id": "6c786cd0-d9c7-46ad-9652-c9619b44e30c",
   "metadata": {},
   "outputs": [],
   "source": []
  }
 ],
 "metadata": {
  "kernelspec": {
   "display_name": "Python 3 (ipykernel)",
   "language": "python",
   "name": "python3"
  },
  "language_info": {
   "codemirror_mode": {
    "name": "ipython",
    "version": 3
   },
   "file_extension": ".py",
   "mimetype": "text/x-python",
   "name": "python",
   "nbconvert_exporter": "python",
   "pygments_lexer": "ipython3",
   "version": "3.13.2+"
  }
 },
 "nbformat": 4,
 "nbformat_minor": 5
}
