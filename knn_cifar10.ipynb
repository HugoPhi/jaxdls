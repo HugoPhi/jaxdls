{
 "cells": [
  {
   "cell_type": "code",
   "execution_count": 1,
   "id": "b4dbce7b-a407-4ba3-b0f7-6a88e8eba0a7",
   "metadata": {},
   "outputs": [
    {
     "name": "stdout",
     "output_type": "stream",
     "text": [
      "Path to dataset files: /home/tibless/.cache/kagglehub/datasets/pankrzysiu/cifar10-python/versions/1/cifar-10-batches-py\n"
     ]
    }
   ],
   "source": [
    "import kagglehub\n",
    "\n",
    "# Download CIFAR-10\n",
    "# path = kagglehub.dataset_download(\"pankrzysiu/cifar10-python\") + '/cifar-10-batches-py'\n",
    "path = '/home/tibless/.cache/kagglehub/datasets/pankrzysiu/cifar10-python/versions/1' + '/cifar-10-batches-py'\n",
    "\n",
    "print(\"Path to dataset files:\", path)"
   ]
  },
  {
   "cell_type": "code",
   "execution_count": 2,
   "id": "6ffa7b57-6935-43f6-a4c1-b449fffdc973",
   "metadata": {},
   "outputs": [
    {
     "name": "stdout",
     "output_type": "stream",
     "text": [
      "Training data shape: (50000, 32, 32, 3), Training labels shape: (50000,)\n",
      "Testing data shape: (10000, 32, 32, 3), Testing labels shape: (10000,)\n"
     ]
    }
   ],
   "source": [
    "import os\n",
    "import time\n",
    "import numpy as np\n",
    "\n",
    "class2name = [\n",
    "    'airplane',  # 0\n",
    "    'automobile',  # 1\n",
    "    'bird',  # 2\n",
    "    'cat',  # 3\n",
    "    'deer',  # 4\n",
    "    'dog',  # 5\n",
    "    'frog',  # 6\n",
    "    'horse',  # 7\n",
    "    'ship',  # 8\n",
    "    'truck'  # 9\n",
    "]\n",
    "\n",
    "def unpickle(file):\n",
    "    import pickle\n",
    "    with open(file, 'rb') as fo:\n",
    "        dict = pickle.load(fo, encoding='bytes')\n",
    "    return dict\n",
    "\n",
    "def load_cifar10(path):\n",
    "    x_train = []\n",
    "    y_train = []\n",
    "    \n",
    "    for i in range(1, 6):\n",
    "        file_path = os.path.join(path, f'data_batch_{i}')\n",
    "        data_dict = unpickle(file_path)\n",
    "        \n",
    "        x_train.append(data_dict[b'data'].reshape(-1, 3, 32, 32).transpose(0, 2, 3, 1))\n",
    "        y_train += data_dict[b'labels']\n",
    "    \n",
    "    x_train = np.vstack(x_train)\n",
    "    y_train = np.array(y_train)\n",
    "\n",
    "    test_file_path = os.path.join(path, 'test_batch')\n",
    "    test_dict = unpickle(test_file_path)\n",
    "    \n",
    "    x_test = test_dict[b'data'].reshape(-1, 3, 32, 32).transpose(0, 2, 3, 1)\n",
    "    y_test = np.array(test_dict[b'labels'])\n",
    "\n",
    "    return (x_train, y_train), (x_test, y_test)\n",
    "\n",
    "(x_train, y_train), (x_test, y_test) = load_cifar10(path)\n",
    "\n",
    "print(f\"Training data shape: {x_train.shape}, Training labels shape: {y_train.shape}\")\n",
    "print(f\"Testing data shape: {x_test.shape}, Testing labels shape: {y_test.shape}\")"
   ]
  },
  {
   "cell_type": "code",
   "execution_count": 3,
   "id": "70f04f25-e98d-4d17-a816-4ab61436e533",
   "metadata": {},
   "outputs": [],
   "source": [
    "import jax.numpy as jnp\n",
    "from jax import random\n",
    "key = random.PRNGKey(42)\n",
    "\n",
    "TRAIN = 50000\n",
    "TEST = 1000\n",
    "x_train = jnp.array(x_train[:TRAIN]).reshape(-1, 32 * 32 * 3) / 255.\n",
    "y_train = jnp.array(y_train[:TRAIN])\n",
    "x_test = jnp.array(x_test[:TEST]).reshape(-1, 32 * 32 * 3) / 255.\n",
    "y_test = jnp.array(y_test[:TEST])"
   ]
  },
  {
   "cell_type": "code",
   "execution_count": 4,
   "id": "261bd1b5-bbd0-475f-98c5-14048d80a380",
   "metadata": {},
   "outputs": [],
   "source": [
    "import jax.numpy as jnp\n",
    "from jax import jit, vmap, lax\n",
    "\n",
    "distance = jit(vmap(\n",
    "                    vmap(\n",
    "                        lambda x, y: jnp.sum(jnp.abs(x - y)), in_axes=(None, 0)\n",
    "                    ), in_axes=(0, None)\n",
    "                ))\n",
    "\n",
    "\n",
    "class KNN:\n",
    "    def __init__(self, k, num_class):\n",
    "        self.k = k\n",
    "        self.n = num_class\n",
    "\n",
    "    def train(self, x_train, y_train):\n",
    "        self.x = jnp.array(x_train)\n",
    "        self.y = jnp.array(y_train)\n",
    "\n",
    "    def predict(self, x_test, batch_size=1000):\n",
    "        \n",
    "        dismat = jnp.zeros((x_test.shape[0], self.x.shape[0]))\n",
    "\n",
    "        # # Loop version\n",
    "        # for i in range(0, self.x.shape[0], batch_size):\n",
    "        #     s = time.time()\n",
    "        #     dismat = dismat.at[:, i:i+batch_size].set(\n",
    "        #         distance(x_test, self.x[i:i+batch_size])\n",
    "        #     )\n",
    "        #     print(f'{time.time() - s}')\n",
    "\n",
    "        def step(carry, x_t):\n",
    "            mat, ix = carry\n",
    "            \n",
    "            dis_batch = distance(x_test, x_t) \n",
    "            new_mat = lax.dynamic_update_slice(mat, dis_batch, (0, ix))\n",
    "            return (new_mat, ix + x_t.shape[0]), ()\n",
    "\n",
    "        batches = jnp.array([self.x[ix: ix+batch_size] for ix in range(0, self.x.shape[0], batch_size)])\n",
    "        \n",
    "        (dismat, _), _ = lax.scan(step, (dismat, 0), batches)\n",
    "        \n",
    "        def proba(d):\n",
    "            kns = self.y[jnp.argsort(d)[:self.k]]\n",
    "            cnt = jnp.bincount(kns, length=self.n)\n",
    "            return jnp.argmax(cnt / self.k)\n",
    "\n",
    "        get_proba = vmap(proba, in_axes=(0,))\n",
    "\n",
    "        res = get_proba(dismat)\n",
    "        return res"
   ]
  },
  {
   "cell_type": "code",
   "execution_count": 5,
   "id": "141855c4-3fed-4b47-8b14-30b439277366",
   "metadata": {},
   "outputs": [],
   "source": [
    "knn = KNN(k=10, num_class=10)\n",
    "knn.train(x_train, y_train)\n",
    "\n",
    "acc = jit(lambda x, y: jnp.mean(x == y))"
   ]
  },
  {
   "cell_type": "code",
   "execution_count": 7,
   "id": "79ce60c8-8923-400e-b7fa-4753442b85ae",
   "metadata": {},
   "outputs": [
    {
     "name": "stdout",
     "output_type": "stream",
     "text": [
      "\n",
      "time: 0.43906235694885254 s\n",
      "acc: 0.38200002908706665 s\n"
     ]
    }
   ],
   "source": [
    "import time\n",
    "\n",
    "s = time.time()\n",
    "y_pred = knn.predict(x_test)\n",
    "print()\n",
    "print(f'time: {time.time() - s} s')\n",
    "\n",
    "print(f'acc: {acc(y_test, y_pred)} s')"
   ]
  },
  {
   "cell_type": "markdown",
   "id": "e61b56f3-9bdb-4613-b3a1-699ca4b3dc3b",
   "metadata": {},
   "source": [
    "![knn](./assets/knn.png)"
   ]
  }
 ],
 "metadata": {
  "kernelspec": {
   "display_name": "Python 3 (ipykernel)",
   "language": "python",
   "name": "python3"
  },
  "language_info": {
   "codemirror_mode": {
    "name": "ipython",
    "version": 3
   },
   "file_extension": ".py",
   "mimetype": "text/x-python",
   "name": "python",
   "nbconvert_exporter": "python",
   "pygments_lexer": "ipython3",
   "version": "3.13.2+"
  }
 },
 "nbformat": 4,
 "nbformat_minor": 5
}
